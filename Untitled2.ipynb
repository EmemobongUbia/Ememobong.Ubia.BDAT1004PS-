{
 "cells": [
  {
   "cell_type": "markdown",
   "id": "c9d35992",
   "metadata": {},
   "source": [
    "# QUESTION 1"
   ]
  },
  {
   "cell_type": "markdown",
   "id": "597a1bdf",
   "metadata": {},
   "source": [
    "5 is an integer\n",
    "5.0 is a float data\n",
    "5>1 is a boolean value(true or false)\n",
    "5 * 2 is a string\n",
    "'5' * 2 is a string multiplication operation\n",
    "'5' + '2' is a string concatenation operation\n",
    "5 / 2 is a float data\n",
    "5 % 2 is an integer\n",
    "{5,2,1} is a data type\n",
    "5 == 3 is a boolean value \n",
    "Pi(the number) is a float type"
   ]
  },
  {
   "cell_type": "markdown",
   "id": "a9a394a8",
   "metadata": {},
   "source": [
    "# QUESTION 2"
   ]
  },
  {
   "cell_type": "code",
   "execution_count": 1,
   "id": "4888d9c5",
   "metadata": {},
   "outputs": [
    {
     "name": "stdout",
     "output_type": "stream",
     "text": [
      "34\n"
     ]
    }
   ],
   "source": [
    "word = 'supercalifragilisticexpialidocious'\n",
    "num_letters = len(word)\n",
    "print(num_letters)"
   ]
  },
  {
   "cell_type": "code",
   "execution_count": 2,
   "id": "9be7d3b4",
   "metadata": {},
   "outputs": [
    {
     "name": "stdout",
     "output_type": "stream",
     "text": [
      "True\n"
     ]
    }
   ],
   "source": [
    "word = 'Supercalifragilisticexpialidocious'\n",
    "substring = 'ice'\n",
    "result = substring in word\n",
    "print(result)"
   ]
  },
  {
   "cell_type": "code",
   "execution_count": 3,
   "id": "9b9c695e",
   "metadata": {},
   "outputs": [
    {
     "name": "stdout",
     "output_type": "stream",
     "text": [
      "Supercalifragilisticexpialidocious\n"
     ]
    }
   ],
   "source": [
    "words = ['Supercalifragilisticexpialidocious', 'Honorificabilitudinitatibus', 'Bababadalgharaghtakamminarronnkonn']\n",
    "longest_word=max(words,key=len)\n",
    "print(longest_word)"
   ]
  },
  {
   "cell_type": "code",
   "execution_count": 4,
   "id": "a80da905",
   "metadata": {},
   "outputs": [
    {
     "name": "stdout",
     "output_type": "stream",
     "text": [
      "First: Bartok\n",
      "Last: Buxtehude\n"
     ]
    }
   ],
   "source": [
    "composers = ['Berlioz', 'Borodin', 'Brian', 'Bartok', 'Bellini', 'Buxtehude']\n",
    "sorted_composers = sorted(composers)\n",
    "print(\"First:\",sorted_composers[0])\n",
    "print(\"Last:\",sorted_composers[-1])"
   ]
  },
  {
   "cell_type": "markdown",
   "id": "d499a4d2",
   "metadata": {},
   "source": [
    "# QUESTION 3"
   ]
  },
  {
   "cell_type": "code",
   "execution_count": 5,
   "id": "6eff0bc6",
   "metadata": {},
   "outputs": [
    {
     "name": "stdout",
     "output_type": "stream",
     "text": [
      "1.7320508075688772\n"
     ]
    }
   ],
   "source": [
    "def triangleArea(a, b, c):\n",
    "    s = (a + b + c) / 2\n",
    "    return (s * (s - a) * (s - b) * (s - c))**0.5\n",
    "print(triangleArea(2, 2, 2))"
   ]
  },
  {
   "cell_type": "markdown",
   "id": "381f3913",
   "metadata": {},
   "source": [
    "# QUESTION 4"
   ]
  },
  {
   "cell_type": "code",
   "execution_count": null,
   "id": "5706b318",
   "metadata": {},
   "outputs": [],
   "source": [
    "n = int(input(\"input the number of element to be stored in the array\"))\n",
    "arr = []\n",
    "for i in range(n):\n",
    "    arr.append(int(input(f\"element - {i}: \")))\n",
    "    \n",
    "even = [x for x in arr if x % 2 == 0]\n",
    "odd = [x for x in arr if x % 2 != 0]\n",
    "\n",
    "print(\"The even elements are:\", end-\" \")\n",
    "print(\"The odd elements are:\", end=\" \")"
   ]
  },
  {
   "cell_type": "markdown",
   "id": "d8b7e3d1",
   "metadata": {},
   "source": [
    "# QUESTION 5"
   ]
  },
  {
   "cell_type": "code",
   "execution_count": 13,
   "id": "d49188af",
   "metadata": {},
   "outputs": [],
   "source": [
    "def inside(x,y,x1,y1,x2,y2):\n",
    "    if x1 <= x <= x2 and y1 <= y <=y2:\n",
    "        return True\n",
    "    else:\n",
    "        return False"
   ]
  },
  {
   "cell_type": "code",
   "execution_count": 14,
   "id": "8844fafa",
   "metadata": {},
   "outputs": [
    {
     "name": "stdout",
     "output_type": "stream",
     "text": [
      "Point does not lie in both rectangle\n"
     ]
    }
   ],
   "source": [
    "rectangle1 = inside(1,1,0.3,0.5,1.1,0.7)\n",
    "rectangle2 = inside(1,1,0.5,0.2,1.1,2)\n",
    "if rectangle1 and rectangle2:\n",
    "    print(\"Point lies in both rectangle\")\n",
    "else:\n",
    "    print(\"Point does not lie in both rectangle\")"
   ]
  },
  {
   "cell_type": "markdown",
   "id": "be153387",
   "metadata": {},
   "source": [
    "# QUESTION 6"
   ]
  },
  {
   "cell_type": "code",
   "execution_count": 10,
   "id": "85d0083a",
   "metadata": {},
   "outputs": [],
   "source": [
    "def pig(word):\n",
    "    vowels = \"aeiouAEIOU\"\n",
    "    if word[0] in vowels:\n",
    "        return word.lower() + \"way\"\n",
    "    else:\n",
    "        return word.lower()[1:] + word.lower()[0] + \"ay\""
   ]
  },
  {
   "cell_type": "code",
   "execution_count": 11,
   "id": "eb3e3093",
   "metadata": {},
   "outputs": [
    {
     "data": {
      "text/plain": [
       "'enterway'"
      ]
     },
     "execution_count": 11,
     "metadata": {},
     "output_type": "execute_result"
    }
   ],
   "source": [
    "pig(\"happy\")\n",
    "'appyhay'\n",
    "pig(\"Enter\")\n",
    "'enterway'"
   ]
  },
  {
   "cell_type": "markdown",
   "id": "4f1a4eee",
   "metadata": {},
   "source": [
    "# QUESTION 7"
   ]
  },
  {
   "cell_type": "code",
   "execution_count": null,
   "id": "3373f3cf",
   "metadata": {},
   "outputs": [],
   "source": []
  },
  {
   "cell_type": "markdown",
   "id": "15a9a3d2",
   "metadata": {},
   "source": [
    "# QUESTION 8"
   ]
  },
  {
   "cell_type": "markdown",
   "id": "9eb8c521",
   "metadata": {},
   "source": [
    "# QUESTION 9"
   ]
  },
  {
   "cell_type": "markdown",
   "id": "30307966",
   "metadata": {},
   "source": [
    "6 + 'a'\n",
    "type error\n",
    "\n",
    "Referring to the 12th item of a list that has only 10 items\n",
    "Error->out of index\n",
    "\n",
    "Using a value that is out of range for a function's input, such as calling math.sqrt(-1.0)\n",
    "Error->domain error\n",
    "\n",
    "Using an undeclared variable,such as print(x) when x has not been defined\n",
    "error->variable not defined\n",
    "\n",
    "Trying to open a open a file that does not exist,such as mistyping the file name or looking in the wrong directory\n",
    "Error->no such directory found"
   ]
  },
  {
   "cell_type": "markdown",
   "id": "52a002c3",
   "metadata": {},
   "source": [
    "# QUESTION 10"
   ]
  },
  {
   "cell_type": "code",
   "execution_count": 2,
   "id": "805678fd",
   "metadata": {},
   "outputs": [
    {
     "name": "stdout",
     "output_type": "stream",
     "text": [
      "[1, 1, 1, 3, 5, 1, 1, 2, 1, 0, 1, 0, 1, 2, 4, 0, 1, 2, 0, 3, 1, 0, 1, 1, 0, 0]\n",
      "[1, 0, 0, 0, 1, 0, 0, 0, 0, 0, 0, 1, 0, 0, 0, 2, 0, 0, 0, 0, 0, 0, 0, 0, 0, 0]\n"
     ]
    }
   ],
   "source": [
    "def frequencies(text):\n",
    "  result = [0] * 26\n",
    "  for char in text.lower():\n",
    "    index = ord(char) - ord('a')\n",
    "    if index >= 0 and index < 26:\n",
    "      result[index] += 1\n",
    "  return result\n",
    "\n",
    "print(frequencies('The quick red fox got bored and went home.'))\n",
    "print(frequencies('apple'))"
   ]
  },
  {
   "cell_type": "code",
   "execution_count": null,
   "id": "24836c37",
   "metadata": {},
   "outputs": [],
   "source": []
  }
 ],
 "metadata": {
  "kernelspec": {
   "display_name": "Python 3 (ipykernel)",
   "language": "python",
   "name": "python3"
  },
  "language_info": {
   "codemirror_mode": {
    "name": "ipython",
    "version": 3
   },
   "file_extension": ".py",
   "mimetype": "text/x-python",
   "name": "python",
   "nbconvert_exporter": "python",
   "pygments_lexer": "ipython3",
   "version": "3.9.13"
  }
 },
 "nbformat": 4,
 "nbformat_minor": 5
}
